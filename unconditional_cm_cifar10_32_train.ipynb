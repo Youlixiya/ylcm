{
 "cells": [
  {
   "cell_type": "code",
   "execution_count": 4,
   "outputs": [
    {
     "name": "stdout",
     "output_type": "stream",
     "text": [
      "Looking in indexes: https://pypi.tuna.tsinghua.edu.cn/simple\n",
      "Requirement already satisfied: huggingface_hub in c:\\users\\23176\\appdata\\roaming\\python\\python38\\site-packages (0.13.4)\n",
      "Requirement already satisfied: packaging>=20.9 in c:\\users\\23176\\appdata\\roaming\\python\\python38\\site-packages (from huggingface_hub) (23.1)\n",
      "Requirement already satisfied: pyyaml>=5.1 in c:\\users\\23176\\appdata\\roaming\\python\\python38\\site-packages (from huggingface_hub) (6.0)\n",
      "Requirement already satisfied: requests in c:\\users\\23176\\appdata\\roaming\\python\\python38\\site-packages (from huggingface_hub) (2.28.2)\n",
      "Requirement already satisfied: typing-extensions>=3.7.4.3 in c:\\users\\23176\\appdata\\roaming\\python\\python38\\site-packages (from huggingface_hub) (4.5.0)\n",
      "Requirement already satisfied: tqdm>=4.42.1 in c:\\users\\23176\\appdata\\roaming\\python\\python38\\site-packages (from huggingface_hub) (4.65.0)\n",
      "Requirement already satisfied: filelock in c:\\users\\23176\\appdata\\roaming\\python\\python38\\site-packages (from huggingface_hub) (3.11.0)\n",
      "Requirement already satisfied: colorama in c:\\users\\23176\\appdata\\roaming\\python\\python38\\site-packages (from tqdm>=4.42.1->huggingface_hub) (0.4.6)\n",
      "Requirement already satisfied: certifi>=2017.4.17 in d:\\anaconda3\\envs\\consistency\\lib\\site-packages (from requests->huggingface_hub) (2022.12.7)\n",
      "Requirement already satisfied: idna<4,>=2.5 in c:\\users\\23176\\appdata\\roaming\\python\\python38\\site-packages (from requests->huggingface_hub) (3.4)\n",
      "Requirement already satisfied: urllib3<1.27,>=1.21.1 in c:\\users\\23176\\appdata\\roaming\\python\\python38\\site-packages (from requests->huggingface_hub) (1.26.15)\n",
      "Requirement already satisfied: charset-normalizer<4,>=2 in c:\\users\\23176\\appdata\\roaming\\python\\python38\\site-packages (from requests->huggingface_hub) (3.1.0)\n"
     ]
    },
    {
     "name": "stderr",
     "output_type": "stream",
     "text": [
      "'huggingface-cli' 不是内部或外部命令，也不是可运行的程序\n",
      "或批处理文件。\n"
     ]
    }
   ],
   "source": [
    "!python -m pip install huggingface_hub\n",
    "!huggingface-cli login"
   ],
   "metadata": {
    "collapsed": false,
    "pycharm": {
     "name": "#%%\n"
    }
   }
  },
  {
   "cell_type": "code",
   "execution_count": 1,
   "metadata": {
    "pycharm": {
     "name": "#%%\n"
    }
   },
   "outputs": [
    {
     "name": "stderr",
     "output_type": "stream",
     "text": [
      "Failed to detect the name of this notebook, you can set it manually with the WANDB_NOTEBOOK_NAME environment variable to enable code saving.\n",
      "\u001B[34m\u001B[1mwandb\u001B[0m: Network error (SSLError), entering retry loop.\n",
      "\u001B[34m\u001B[1mwandb\u001B[0m: W&B API key is configured. Use \u001B[1m`wandb login --relogin`\u001B[0m to force relogin\n"
     ]
    },
    {
     "data": {
      "text/plain": "VBox(children=(HTML(value='<center> <img\\nsrc=https://huggingface.co/front/assets/huggingface_logo-noborder.sv…",
      "application/vnd.jupyter.widget-view+json": {
       "version_major": 2,
       "version_minor": 0,
       "model_id": "7e2abd5d4f794d30a9bc643cd5a23f00"
      }
     },
     "metadata": {},
     "output_type": "display_data"
    }
   ],
   "source": [
    "from huggingface_hub import notebook_login\n",
    "import wandb\n",
    "wandb.login()\n",
    "notebook_login()"
   ]
  },
  {
   "cell_type": "code",
   "execution_count": 1,
   "metadata": {},
   "outputs": [
    {
     "name": "stdout",
     "output_type": "stream",
     "text": [
      "Files already downloaded and verified\n"
     ]
    },
    {
     "data": {
      "text/plain": "CMConfig(image_size=32, train_batch_size=32, save_image_epochs=1, save_model_epochs=1, num_samples=16, sample_steps=1, num_epochs=50, nc=10, warm_epochs=3, learning_rate=0.001, momentum=0, weight_decay=0, optimizer='RAdam', data_std=0.5, eps=0.002, T=80, s0=2, s1=150, rou=7, use_ema=True, mu0=0.9, mixed_precision='fp16', output_dir='cm\\\\unconditional_cm_cifar10_32_3', seed=213, loss_fn=\"LearnedPerceptualImagePatchSimilarity(net_type='vgg')\", model_args={'model_type': 'UNet2DModel', 'model_config': {'sample_size': 32, 'in_channels': 3, 'out_channels': 3, 'layers_per_block': 2, 'block_out_channels': (128, 256, 256, 256), 'down_block_types': ('DownBlock2D', 'DownBlock2D', 'AttnDownBlock2D', 'DownBlock2D'), 'up_block_types': ('UpBlock2D', 'AttnUpBlock2D', 'UpBlock2D', 'UpBlock2D')}}, model=UNet2DModel(\n  (conv_in): Conv2d(3, 128, kernel_size=(3, 3), stride=(1, 1), padding=(1, 1))\n  (time_proj): Timesteps()\n  (time_embedding): TimestepEmbedding(\n    (linear_1): Linear(in_features=128, out_features=512, bias=True)\n    (act): SiLU()\n    (linear_2): Linear(in_features=512, out_features=512, bias=True)\n  )\n  (down_blocks): ModuleList(\n    (0): DownBlock2D(\n      (resnets): ModuleList(\n        (0): ResnetBlock2D(\n          (norm1): GroupNorm(32, 128, eps=1e-05, affine=True)\n          (conv1): Conv2d(128, 128, kernel_size=(3, 3), stride=(1, 1), padding=(1, 1))\n          (time_emb_proj): Linear(in_features=512, out_features=128, bias=True)\n          (norm2): GroupNorm(32, 128, eps=1e-05, affine=True)\n          (dropout): Dropout(p=0.0, inplace=False)\n          (conv2): Conv2d(128, 128, kernel_size=(3, 3), stride=(1, 1), padding=(1, 1))\n          (nonlinearity): SiLU()\n        )\n        (1): ResnetBlock2D(\n          (norm1): GroupNorm(32, 128, eps=1e-05, affine=True)\n          (conv1): Conv2d(128, 128, kernel_size=(3, 3), stride=(1, 1), padding=(1, 1))\n          (time_emb_proj): Linear(in_features=512, out_features=128, bias=True)\n          (norm2): GroupNorm(32, 128, eps=1e-05, affine=True)\n          (dropout): Dropout(p=0.0, inplace=False)\n          (conv2): Conv2d(128, 128, kernel_size=(3, 3), stride=(1, 1), padding=(1, 1))\n          (nonlinearity): SiLU()\n        )\n      )\n      (downsamplers): ModuleList(\n        (0): Downsample2D(\n          (conv): Conv2d(128, 128, kernel_size=(3, 3), stride=(2, 2), padding=(1, 1))\n        )\n      )\n    )\n    (1): DownBlock2D(\n      (resnets): ModuleList(\n        (0): ResnetBlock2D(\n          (norm1): GroupNorm(32, 128, eps=1e-05, affine=True)\n          (conv1): Conv2d(128, 256, kernel_size=(3, 3), stride=(1, 1), padding=(1, 1))\n          (time_emb_proj): Linear(in_features=512, out_features=256, bias=True)\n          (norm2): GroupNorm(32, 256, eps=1e-05, affine=True)\n          (dropout): Dropout(p=0.0, inplace=False)\n          (conv2): Conv2d(256, 256, kernel_size=(3, 3), stride=(1, 1), padding=(1, 1))\n          (nonlinearity): SiLU()\n          (conv_shortcut): Conv2d(128, 256, kernel_size=(1, 1), stride=(1, 1))\n        )\n        (1): ResnetBlock2D(\n          (norm1): GroupNorm(32, 256, eps=1e-05, affine=True)\n          (conv1): Conv2d(256, 256, kernel_size=(3, 3), stride=(1, 1), padding=(1, 1))\n          (time_emb_proj): Linear(in_features=512, out_features=256, bias=True)\n          (norm2): GroupNorm(32, 256, eps=1e-05, affine=True)\n          (dropout): Dropout(p=0.0, inplace=False)\n          (conv2): Conv2d(256, 256, kernel_size=(3, 3), stride=(1, 1), padding=(1, 1))\n          (nonlinearity): SiLU()\n        )\n      )\n      (downsamplers): ModuleList(\n        (0): Downsample2D(\n          (conv): Conv2d(256, 256, kernel_size=(3, 3), stride=(2, 2), padding=(1, 1))\n        )\n      )\n    )\n    (2): AttnDownBlock2D(\n      (attentions): ModuleList(\n        (0): AttentionBlock(\n          (group_norm): GroupNorm(32, 256, eps=1e-05, affine=True)\n          (query): Linear(in_features=256, out_features=256, bias=True)\n          (key): Linear(in_features=256, out_features=256, bias=True)\n          (value): Linear(in_features=256, out_features=256, bias=True)\n          (proj_attn): Linear(in_features=256, out_features=256, bias=True)\n        )\n        (1): AttentionBlock(\n          (group_norm): GroupNorm(32, 256, eps=1e-05, affine=True)\n          (query): Linear(in_features=256, out_features=256, bias=True)\n          (key): Linear(in_features=256, out_features=256, bias=True)\n          (value): Linear(in_features=256, out_features=256, bias=True)\n          (proj_attn): Linear(in_features=256, out_features=256, bias=True)\n        )\n      )\n      (resnets): ModuleList(\n        (0): ResnetBlock2D(\n          (norm1): GroupNorm(32, 256, eps=1e-05, affine=True)\n          (conv1): Conv2d(256, 256, kernel_size=(3, 3), stride=(1, 1), padding=(1, 1))\n          (time_emb_proj): Linear(in_features=512, out_features=256, bias=True)\n          (norm2): GroupNorm(32, 256, eps=1e-05, affine=True)\n          (dropout): Dropout(p=0.0, inplace=False)\n          (conv2): Conv2d(256, 256, kernel_size=(3, 3), stride=(1, 1), padding=(1, 1))\n          (nonlinearity): SiLU()\n        )\n        (1): ResnetBlock2D(\n          (norm1): GroupNorm(32, 256, eps=1e-05, affine=True)\n          (conv1): Conv2d(256, 256, kernel_size=(3, 3), stride=(1, 1), padding=(1, 1))\n          (time_emb_proj): Linear(in_features=512, out_features=256, bias=True)\n          (norm2): GroupNorm(32, 256, eps=1e-05, affine=True)\n          (dropout): Dropout(p=0.0, inplace=False)\n          (conv2): Conv2d(256, 256, kernel_size=(3, 3), stride=(1, 1), padding=(1, 1))\n          (nonlinearity): SiLU()\n        )\n      )\n      (downsamplers): ModuleList(\n        (0): Downsample2D(\n          (conv): Conv2d(256, 256, kernel_size=(3, 3), stride=(2, 2), padding=(1, 1))\n        )\n      )\n    )\n    (3): DownBlock2D(\n      (resnets): ModuleList(\n        (0): ResnetBlock2D(\n          (norm1): GroupNorm(32, 256, eps=1e-05, affine=True)\n          (conv1): Conv2d(256, 256, kernel_size=(3, 3), stride=(1, 1), padding=(1, 1))\n          (time_emb_proj): Linear(in_features=512, out_features=256, bias=True)\n          (norm2): GroupNorm(32, 256, eps=1e-05, affine=True)\n          (dropout): Dropout(p=0.0, inplace=False)\n          (conv2): Conv2d(256, 256, kernel_size=(3, 3), stride=(1, 1), padding=(1, 1))\n          (nonlinearity): SiLU()\n        )\n        (1): ResnetBlock2D(\n          (norm1): GroupNorm(32, 256, eps=1e-05, affine=True)\n          (conv1): Conv2d(256, 256, kernel_size=(3, 3), stride=(1, 1), padding=(1, 1))\n          (time_emb_proj): Linear(in_features=512, out_features=256, bias=True)\n          (norm2): GroupNorm(32, 256, eps=1e-05, affine=True)\n          (dropout): Dropout(p=0.0, inplace=False)\n          (conv2): Conv2d(256, 256, kernel_size=(3, 3), stride=(1, 1), padding=(1, 1))\n          (nonlinearity): SiLU()\n        )\n      )\n    )\n  )\n  (up_blocks): ModuleList(\n    (0): UpBlock2D(\n      (resnets): ModuleList(\n        (0): ResnetBlock2D(\n          (norm1): GroupNorm(32, 512, eps=1e-05, affine=True)\n          (conv1): Conv2d(512, 256, kernel_size=(3, 3), stride=(1, 1), padding=(1, 1))\n          (time_emb_proj): Linear(in_features=512, out_features=256, bias=True)\n          (norm2): GroupNorm(32, 256, eps=1e-05, affine=True)\n          (dropout): Dropout(p=0.0, inplace=False)\n          (conv2): Conv2d(256, 256, kernel_size=(3, 3), stride=(1, 1), padding=(1, 1))\n          (nonlinearity): SiLU()\n          (conv_shortcut): Conv2d(512, 256, kernel_size=(1, 1), stride=(1, 1))\n        )\n        (1): ResnetBlock2D(\n          (norm1): GroupNorm(32, 512, eps=1e-05, affine=True)\n          (conv1): Conv2d(512, 256, kernel_size=(3, 3), stride=(1, 1), padding=(1, 1))\n          (time_emb_proj): Linear(in_features=512, out_features=256, bias=True)\n          (norm2): GroupNorm(32, 256, eps=1e-05, affine=True)\n          (dropout): Dropout(p=0.0, inplace=False)\n          (conv2): Conv2d(256, 256, kernel_size=(3, 3), stride=(1, 1), padding=(1, 1))\n          (nonlinearity): SiLU()\n          (conv_shortcut): Conv2d(512, 256, kernel_size=(1, 1), stride=(1, 1))\n        )\n        (2): ResnetBlock2D(\n          (norm1): GroupNorm(32, 512, eps=1e-05, affine=True)\n          (conv1): Conv2d(512, 256, kernel_size=(3, 3), stride=(1, 1), padding=(1, 1))\n          (time_emb_proj): Linear(in_features=512, out_features=256, bias=True)\n          (norm2): GroupNorm(32, 256, eps=1e-05, affine=True)\n          (dropout): Dropout(p=0.0, inplace=False)\n          (conv2): Conv2d(256, 256, kernel_size=(3, 3), stride=(1, 1), padding=(1, 1))\n          (nonlinearity): SiLU()\n          (conv_shortcut): Conv2d(512, 256, kernel_size=(1, 1), stride=(1, 1))\n        )\n      )\n      (upsamplers): ModuleList(\n        (0): Upsample2D(\n          (conv): Conv2d(256, 256, kernel_size=(3, 3), stride=(1, 1), padding=(1, 1))\n        )\n      )\n    )\n    (1): AttnUpBlock2D(\n      (attentions): ModuleList(\n        (0): AttentionBlock(\n          (group_norm): GroupNorm(32, 256, eps=1e-05, affine=True)\n          (query): Linear(in_features=256, out_features=256, bias=True)\n          (key): Linear(in_features=256, out_features=256, bias=True)\n          (value): Linear(in_features=256, out_features=256, bias=True)\n          (proj_attn): Linear(in_features=256, out_features=256, bias=True)\n        )\n        (1): AttentionBlock(\n          (group_norm): GroupNorm(32, 256, eps=1e-05, affine=True)\n          (query): Linear(in_features=256, out_features=256, bias=True)\n          (key): Linear(in_features=256, out_features=256, bias=True)\n          (value): Linear(in_features=256, out_features=256, bias=True)\n          (proj_attn): Linear(in_features=256, out_features=256, bias=True)\n        )\n        (2): AttentionBlock(\n          (group_norm): GroupNorm(32, 256, eps=1e-05, affine=True)\n          (query): Linear(in_features=256, out_features=256, bias=True)\n          (key): Linear(in_features=256, out_features=256, bias=True)\n          (value): Linear(in_features=256, out_features=256, bias=True)\n          (proj_attn): Linear(in_features=256, out_features=256, bias=True)\n        )\n      )\n      (resnets): ModuleList(\n        (0): ResnetBlock2D(\n          (norm1): GroupNorm(32, 512, eps=1e-05, affine=True)\n          (conv1): Conv2d(512, 256, kernel_size=(3, 3), stride=(1, 1), padding=(1, 1))\n          (time_emb_proj): Linear(in_features=512, out_features=256, bias=True)\n          (norm2): GroupNorm(32, 256, eps=1e-05, affine=True)\n          (dropout): Dropout(p=0.0, inplace=False)\n          (conv2): Conv2d(256, 256, kernel_size=(3, 3), stride=(1, 1), padding=(1, 1))\n          (nonlinearity): SiLU()\n          (conv_shortcut): Conv2d(512, 256, kernel_size=(1, 1), stride=(1, 1))\n        )\n        (1): ResnetBlock2D(\n          (norm1): GroupNorm(32, 512, eps=1e-05, affine=True)\n          (conv1): Conv2d(512, 256, kernel_size=(3, 3), stride=(1, 1), padding=(1, 1))\n          (time_emb_proj): Linear(in_features=512, out_features=256, bias=True)\n          (norm2): GroupNorm(32, 256, eps=1e-05, affine=True)\n          (dropout): Dropout(p=0.0, inplace=False)\n          (conv2): Conv2d(256, 256, kernel_size=(3, 3), stride=(1, 1), padding=(1, 1))\n          (nonlinearity): SiLU()\n          (conv_shortcut): Conv2d(512, 256, kernel_size=(1, 1), stride=(1, 1))\n        )\n        (2): ResnetBlock2D(\n          (norm1): GroupNorm(32, 512, eps=1e-05, affine=True)\n          (conv1): Conv2d(512, 256, kernel_size=(3, 3), stride=(1, 1), padding=(1, 1))\n          (time_emb_proj): Linear(in_features=512, out_features=256, bias=True)\n          (norm2): GroupNorm(32, 256, eps=1e-05, affine=True)\n          (dropout): Dropout(p=0.0, inplace=False)\n          (conv2): Conv2d(256, 256, kernel_size=(3, 3), stride=(1, 1), padding=(1, 1))\n          (nonlinearity): SiLU()\n          (conv_shortcut): Conv2d(512, 256, kernel_size=(1, 1), stride=(1, 1))\n        )\n      )\n      (upsamplers): ModuleList(\n        (0): Upsample2D(\n          (conv): Conv2d(256, 256, kernel_size=(3, 3), stride=(1, 1), padding=(1, 1))\n        )\n      )\n    )\n    (2): UpBlock2D(\n      (resnets): ModuleList(\n        (0): ResnetBlock2D(\n          (norm1): GroupNorm(32, 512, eps=1e-05, affine=True)\n          (conv1): Conv2d(512, 256, kernel_size=(3, 3), stride=(1, 1), padding=(1, 1))\n          (time_emb_proj): Linear(in_features=512, out_features=256, bias=True)\n          (norm2): GroupNorm(32, 256, eps=1e-05, affine=True)\n          (dropout): Dropout(p=0.0, inplace=False)\n          (conv2): Conv2d(256, 256, kernel_size=(3, 3), stride=(1, 1), padding=(1, 1))\n          (nonlinearity): SiLU()\n          (conv_shortcut): Conv2d(512, 256, kernel_size=(1, 1), stride=(1, 1))\n        )\n        (1): ResnetBlock2D(\n          (norm1): GroupNorm(32, 512, eps=1e-05, affine=True)\n          (conv1): Conv2d(512, 256, kernel_size=(3, 3), stride=(1, 1), padding=(1, 1))\n          (time_emb_proj): Linear(in_features=512, out_features=256, bias=True)\n          (norm2): GroupNorm(32, 256, eps=1e-05, affine=True)\n          (dropout): Dropout(p=0.0, inplace=False)\n          (conv2): Conv2d(256, 256, kernel_size=(3, 3), stride=(1, 1), padding=(1, 1))\n          (nonlinearity): SiLU()\n          (conv_shortcut): Conv2d(512, 256, kernel_size=(1, 1), stride=(1, 1))\n        )\n        (2): ResnetBlock2D(\n          (norm1): GroupNorm(32, 384, eps=1e-05, affine=True)\n          (conv1): Conv2d(384, 256, kernel_size=(3, 3), stride=(1, 1), padding=(1, 1))\n          (time_emb_proj): Linear(in_features=512, out_features=256, bias=True)\n          (norm2): GroupNorm(32, 256, eps=1e-05, affine=True)\n          (dropout): Dropout(p=0.0, inplace=False)\n          (conv2): Conv2d(256, 256, kernel_size=(3, 3), stride=(1, 1), padding=(1, 1))\n          (nonlinearity): SiLU()\n          (conv_shortcut): Conv2d(384, 256, kernel_size=(1, 1), stride=(1, 1))\n        )\n      )\n      (upsamplers): ModuleList(\n        (0): Upsample2D(\n          (conv): Conv2d(256, 256, kernel_size=(3, 3), stride=(1, 1), padding=(1, 1))\n        )\n      )\n    )\n    (3): UpBlock2D(\n      (resnets): ModuleList(\n        (0): ResnetBlock2D(\n          (norm1): GroupNorm(32, 384, eps=1e-05, affine=True)\n          (conv1): Conv2d(384, 128, kernel_size=(3, 3), stride=(1, 1), padding=(1, 1))\n          (time_emb_proj): Linear(in_features=512, out_features=128, bias=True)\n          (norm2): GroupNorm(32, 128, eps=1e-05, affine=True)\n          (dropout): Dropout(p=0.0, inplace=False)\n          (conv2): Conv2d(128, 128, kernel_size=(3, 3), stride=(1, 1), padding=(1, 1))\n          (nonlinearity): SiLU()\n          (conv_shortcut): Conv2d(384, 128, kernel_size=(1, 1), stride=(1, 1))\n        )\n        (1): ResnetBlock2D(\n          (norm1): GroupNorm(32, 256, eps=1e-05, affine=True)\n          (conv1): Conv2d(256, 128, kernel_size=(3, 3), stride=(1, 1), padding=(1, 1))\n          (time_emb_proj): Linear(in_features=512, out_features=128, bias=True)\n          (norm2): GroupNorm(32, 128, eps=1e-05, affine=True)\n          (dropout): Dropout(p=0.0, inplace=False)\n          (conv2): Conv2d(128, 128, kernel_size=(3, 3), stride=(1, 1), padding=(1, 1))\n          (nonlinearity): SiLU()\n          (conv_shortcut): Conv2d(256, 128, kernel_size=(1, 1), stride=(1, 1))\n        )\n        (2): ResnetBlock2D(\n          (norm1): GroupNorm(32, 256, eps=1e-05, affine=True)\n          (conv1): Conv2d(256, 128, kernel_size=(3, 3), stride=(1, 1), padding=(1, 1))\n          (time_emb_proj): Linear(in_features=512, out_features=128, bias=True)\n          (norm2): GroupNorm(32, 128, eps=1e-05, affine=True)\n          (dropout): Dropout(p=0.0, inplace=False)\n          (conv2): Conv2d(128, 128, kernel_size=(3, 3), stride=(1, 1), padding=(1, 1))\n          (nonlinearity): SiLU()\n          (conv_shortcut): Conv2d(256, 128, kernel_size=(1, 1), stride=(1, 1))\n        )\n      )\n    )\n  )\n  (mid_block): UNetMidBlock2D(\n    (attentions): ModuleList(\n      (0): AttentionBlock(\n        (group_norm): GroupNorm(32, 256, eps=1e-05, affine=True)\n        (query): Linear(in_features=256, out_features=256, bias=True)\n        (key): Linear(in_features=256, out_features=256, bias=True)\n        (value): Linear(in_features=256, out_features=256, bias=True)\n        (proj_attn): Linear(in_features=256, out_features=256, bias=True)\n      )\n    )\n    (resnets): ModuleList(\n      (0): ResnetBlock2D(\n        (norm1): GroupNorm(32, 256, eps=1e-05, affine=True)\n        (conv1): Conv2d(256, 256, kernel_size=(3, 3), stride=(1, 1), padding=(1, 1))\n        (time_emb_proj): Linear(in_features=512, out_features=256, bias=True)\n        (norm2): GroupNorm(32, 256, eps=1e-05, affine=True)\n        (dropout): Dropout(p=0.0, inplace=False)\n        (conv2): Conv2d(256, 256, kernel_size=(3, 3), stride=(1, 1), padding=(1, 1))\n        (nonlinearity): SiLU()\n      )\n      (1): ResnetBlock2D(\n        (norm1): GroupNorm(32, 256, eps=1e-05, affine=True)\n        (conv1): Conv2d(256, 256, kernel_size=(3, 3), stride=(1, 1), padding=(1, 1))\n        (time_emb_proj): Linear(in_features=512, out_features=256, bias=True)\n        (norm2): GroupNorm(32, 256, eps=1e-05, affine=True)\n        (dropout): Dropout(p=0.0, inplace=False)\n        (conv2): Conv2d(256, 256, kernel_size=(3, 3), stride=(1, 1), padding=(1, 1))\n        (nonlinearity): SiLU()\n      )\n    )\n  )\n  (conv_norm_out): GroupNorm(32, 128, eps=1e-05, affine=True)\n  (conv_act): SiLU()\n  (conv_out): Conv2d(128, 3, kernel_size=(3, 3), stride=(1, 1), padding=(1, 1))\n), resume_ckpt_path=None, project_name='unconditional_cm_cifar10_32', conditional=False, index2label_file_path=None, index2label={0: 'airplane', 1: 'automobile', 2: 'bird', 3: 'cat', 4: 'deer', 5: 'dog', 6: 'frog', 7: 'horse', 8: 'ship', 9: 'truck'}, train_txt=None, valid_txt=None, test_txt=None, dataset_path=None, dataset_name='CIFAR10CMDataset', train_images_file_list=None, train_labels_list=None, valid_images_file_list=None, valid_labels_list=None, test_images_file_list=None, test_labels_list=None, train_dataset=None, train_dataloader=None, use_wandb=False, push_to_hub=False, workers=0, transforms=None, max_nums=128)"
     },
     "execution_count": 1,
     "metadata": {},
     "output_type": "execute_result"
    }
   ],
   "source": [
    "import warnings\n",
    "warnings.filterwarnings('ignore')\n",
    "from ylcm import unconditional_cifar10_cmconfig_dict, CMConfig, get_config\n",
    "config = get_config(unconditional_cifar10_cmconfig_dict, CMConfig)\n",
    "config"
   ]
  },
  {
   "cell_type": "code",
   "execution_count": null,
   "metadata": {
    "pycharm": {
     "name": "#%%\n",
     "is_executing": true
    }
   },
   "outputs": [
    {
     "name": "stdout",
     "output_type": "stream",
     "text": [
      "Files already downloaded and verified\n",
      "Files already downloaded and verified\n",
      "🚀yl-consistency model training starts!\n"
     ]
    },
    {
     "data": {
      "text/plain": "train : Epoch [1/50]:   0%|          | 0/4 [00:00<?, ?it/s<class 'dict'>]",
      "application/vnd.jupyter.widget-view+json": {
       "version_major": 2,
       "version_minor": 0,
       "model_id": "ce13e0134c0748a0917ae0ff8d35e722"
      }
     },
     "metadata": {},
     "output_type": "display_data"
    },
    {
     "data": {
      "text/plain": "0it [00:00, ?it/s]",
      "application/vnd.jupyter.widget-view+json": {
       "version_major": 2,
       "version_minor": 0,
       "model_id": "551bc1b236d74774a9d33dbf35c9d46c"
      }
     },
     "metadata": {},
     "output_type": "display_data"
    },
    {
     "name": "stdout",
     "output_type": "stream",
     "text": [
      "🚀yl-consistency model has saved!\n",
      "train Epoch [1/50] loss:0.0009 \n"
     ]
    },
    {
     "data": {
      "text/plain": "train : Epoch [2/50]:   0%|          | 0/4 [00:00<?, ?it/s<class 'dict'>]",
      "application/vnd.jupyter.widget-view+json": {
       "version_major": 2,
       "version_minor": 0,
       "model_id": "329dea49be8c4f11ab44e7e2167f6a43"
      }
     },
     "metadata": {},
     "output_type": "display_data"
    }
   ],
   "source": [
    "from ylcm import Consistency\n",
    "cm = Consistency(config)\n",
    "cm.train()"
   ]
  },
  {
   "cell_type": "code",
   "execution_count": 4,
   "metadata": {
    "pycharm": {
     "name": "#%%\n"
    }
   },
   "outputs": [],
   "source": []
  }
 ],
 "metadata": {
  "kernelspec": {
   "display_name": "Python 3 (ipykernel)",
   "language": "python",
   "name": "python3"
  },
  "language_info": {
   "codemirror_mode": {
    "name": "ipython",
    "version": 3
   },
   "file_extension": ".py",
   "mimetype": "text/x-python",
   "name": "python",
   "nbconvert_exporter": "python",
   "pygments_lexer": "ipython3",
   "version": "3.8.16"
  }
 },
 "nbformat": 4,
 "nbformat_minor": 1
}